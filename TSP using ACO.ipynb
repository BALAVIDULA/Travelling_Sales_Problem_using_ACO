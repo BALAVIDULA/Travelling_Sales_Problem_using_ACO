{
 "cells": [
  {
   "cell_type": "markdown",
   "id": "f164b013",
   "metadata": {},
   "source": [
    " Apply Ant Colony Optimization to solve the Travelling Sales Person problem"
   ]
  },
  {
   "cell_type": "code",
   "execution_count": 7,
   "id": "7f94dd8e",
   "metadata": {},
   "outputs": [],
   "source": [
    "def calculate_total_distance(path, distances):\n",
    "    total_distance = 0\n",
    "    for i in range(len(path) - 1):\n",
    "        total_distance += distances[path[i]][path[i + 1]]\n",
    "    return total_distance\n",
    "\n",
    "def initialize_pheromone_matrix(num_cities):\n",
    "    return np.ones((num_cities, num_cities))\n",
    "\n",
    "def update_pheromone_matrix(pheromones, ants, distances, decay_factor, Q):\n",
    "    for ant_path, ant_distance in ants:\n",
    "        for i in range(len(ant_path) - 1):\n",
    "            pheromones[ant_path[i]][ant_path[i + 1]] += Q / ant_distance\n",
    "            pheromones[ant_path[i + 1]][ant_path[i]] += Q / ant_distance\n",
    "\n",
    "    pheromones *= decay_factor\n",
    "\n",
    "def ant_tour(pheromones, distances, alpha, beta):\n",
    "    num_cities = len(pheromones)\n",
    "    start_city = np.random.randint(num_cities)\n",
    "    visited = [start_city]\n",
    "    unvisited = set(range(num_cities))\n",
    "    unvisited.remove(start_city)\n",
    "\n",
    "    while unvisited:\n",
    "        current_city = visited[-1]\n",
    "        probabilities = calculate_probabilities(pheromones, distances, current_city, visited, unvisited, alpha, beta)\n",
    "        next_city = np.random.choice(list(unvisited), p=probabilities)\n",
    "        visited.append(next_city)\n",
    "        unvisited.remove(next_city)\n",
    "\n",
    "    return visited\n",
    "\n",
    "def calculate_probabilities(pheromones, distances, current_city, visited, unvisited, alpha, beta):\n",
    "    pheromone_values = [pheromones[current_city][next_city] for next_city in unvisited]\n",
    "    distance_values = [1 / distances[current_city][next_city] for next_city in unvisited]\n",
    "\n",
    "    total_values = np.array(pheromone_values) * alpha * np.array(distance_values) * beta\n",
    "    probabilities = total_values / sum(total_values)\n",
    "\n",
    "    return probabilities\n",
    "\n",
    "def aco_tsp(num_ants, generations, alpha, beta, rho, Q, distances):\n",
    "    num_cities = len(distances)\n",
    "    pheromones = initialize_pheromone_matrix(num_cities)\n",
    "    best_path = None\n",
    "    best_distance = float('inf')\n",
    "\n",
    "    for generation in range(generations):\n",
    "        ants = []\n",
    "        for ant in range(num_ants):\n",
    "            ant_path = ant_tour(pheromones, distances, alpha, beta)\n",
    "            ant_distance = calculate_total_distance(ant_path, distances)\n",
    "            ants.append((ant_path, ant_distance))\n",
    "\n",
    "            if ant_distance < best_distance:\n",
    "                best_path = ant_path\n",
    "                best_distance = ant_distance\n",
    "\n",
    "        update_pheromone_matrix(pheromones, ants, distances, rho, Q)\n",
    "\n",
    "    return best_path"
   ]
  },
  {
   "cell_type": "code",
   "execution_count": 8,
   "id": "9d3b3dcc",
   "metadata": {},
   "outputs": [
    {
     "name": "stdout",
     "output_type": "stream",
     "text": [
      "Best ACO TSP Path: ['B', 'A', 'C']\n"
     ]
    }
   ],
   "source": [
    "cities = ['A', 'B', 'C']\n",
    "distances = [\n",
    "    [0, 2, 1],\n",
    "    [2, 0, 3],\n",
    "    [1, 3, 0]\n",
    "]\n",
    "\n",
    "num_ants = 5\n",
    "generations = 50\n",
    "alpha = 1\n",
    "beta = 2\n",
    "rho = 0.5\n",
    "Q = 100\n",
    "\n",
    "best_path_indices = aco_tsp(num_ants, generations, alpha, beta, rho, Q, distances)\n",
    "best_path = [cities[i] for i in best_path_indices]\n",
    "print(\"Best ACO TSP Path:\", best_path)"
   ]
  },
  {
   "cell_type": "code",
   "execution_count": null,
   "id": "25ce97e4",
   "metadata": {},
   "outputs": [],
   "source": []
  }
 ],
 "metadata": {
  "kernelspec": {
   "display_name": "Python 3 (ipykernel)",
   "language": "python",
   "name": "python3"
  },
  "language_info": {
   "codemirror_mode": {
    "name": "ipython",
    "version": 3
   },
   "file_extension": ".py",
   "mimetype": "text/x-python",
   "name": "python",
   "nbconvert_exporter": "python",
   "pygments_lexer": "ipython3",
   "version": "3.10.9"
  }
 },
 "nbformat": 4,
 "nbformat_minor": 5
}
